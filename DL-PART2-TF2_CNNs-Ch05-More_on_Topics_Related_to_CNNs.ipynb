{
 "cells": [
  {
   "cell_type": "markdown",
   "metadata": {},
   "source": [
    "# < Deep Learning - PART2 TF2 CNNs >\n",
    "\n",
    "# Ch 5. More on Topics Related to CNNs\n",
    "2021/10/01"
   ]
  },
  {
   "cell_type": "markdown",
   "metadata": {},
   "source": [
    "###  < Topic 1 > Variational Autoencoders\n",
    "+ FRANÇOIS CHOLLET, \"Deep Learning with Python\", Section 8.4, pp. 296, Manning, 2018."
   ]
  },
  {
   "cell_type": "markdown",
   "metadata": {},
   "source": [
    "###  < Topic 2 > Generative Adversarial Networks (GANs)\n",
    "+ FRANÇOIS CHOLLET, \"Deep Learning with Python\", Section 8.5, pp. 305, Manning, 2018."
   ]
  },
  {
   "cell_type": "markdown",
   "metadata": {},
   "source": [
    "###  < Topic 3 > Neural style transfer\n",
    "+ FRANÇOIS CHOLLET, \"Deep Learning with Python\", Section 8.3, pp. 287, Manning, 2018."
   ]
  },
  {
   "cell_type": "markdown",
   "metadata": {},
   "source": [
    "###  < Topic 4 > Visualizing what convnets learn\n",
    "+ FRANÇOIS CHOLLET, \"Deep Learning with Python\", Section 5.4, pp. 160, Manning, 2018."
   ]
  },
  {
   "cell_type": "markdown",
   "metadata": {},
   "source": [
    "### < Topic 5 > Inception Module - GoogLeNet\n",
    "\n",
    "[ Reference ]\n",
    "1. Andrew Ng (吳恩達教授) “C4W2L05 Network In Network and 1x1 Convolution” https://www.youtube.com/watch?v=c1RBQzKsDCk\n",
    "2. Andrew Ng (吳恩達教授) “C4W2L06 Inception Network Motivation” https://www.youtube.com/watch?v=C86ZXvgpejM&list=PLkDaE6sCZn6Gl29AoE31iwdVwSG-KnDzF&index=17\n",
    "3. Andrew Ng (吳恩達教授) “C4W2L07 Inception Network” https://www.youtube.com/watch?v=KfV8CJh7hE0&list=PLkDaE6sCZn6Gl29AoE31iwdVwSG-KnDzF&index=18\n",
    "4. Chao Wen, \"TensorFlow implementation of GoogLeNet\" https://github.com/walsvid/GoogLeNet-TensorFlow\n",
    "5. \"CNN經典模型：GoogLeNet（從Inception v1到v4的演進）\"https://www.itread01.com/content/1544969366.html"
   ]
  },
  {
   "cell_type": "markdown",
   "metadata": {},
   "source": [
    "### < Topic 6 > Deep Residual Networks (ResNets)\n",
    "\n",
    "[ Reference ]\n",
    "1.  “Trains a ResNet on the CIFAR10 dataset” https://keras.io/examples/cifar10_resnet/\n",
    "2. Andrew Ng (吳恩達教授) “C4W2L03 Resnets” https://www.youtube.com/watch?v=ZILIbUvp5lk\n",
    "3. Andrew Ng (吳恩達教授) “C4W2L04 Why ResNets Work” https://www.youtube.com/watch?v=RYth6EbBUqM&list=PLkDaE6sCZn6Gl29AoE31iwdVwSG-KnDzF&index=15\n",
    "4. \"ResNet v1: Deep Residual Learning for Image Recognition\" https://arxiv.org/pdf/1512.03385.pdf\n",
    "5. \"ResNet v2: Identity Mappings in Deep Residual Networks\" https://arxiv.org/pdf/1603.05027.pdf\n",
    "6. \"你必须要知道CNN模型：ResNet\" https://zhuanlan.zhihu.com/p/31852747"
   ]
  },
  {
   "cell_type": "markdown",
   "metadata": {},
   "source": [
    "### < Topic 7 > Object Detection\n",
    "\n",
    "1.  Joseph Redmon, \"How computers learn to recognize objects instantly\" --  TEDTalk (中文字幕，YouTube video clip)\n",
    "https://youtu.be/Cgxsv1riJhI\n",
    "\n",
    "2.  Prof Andrew Ng, \"Convolutional Neural Networks - Object Detection\",\n",
    "https://zh-tw.coursera.org/learn/convolutional-neural-networks#syllabus  \n",
    "\n",
    "3.  Joyce Su, \"Deep Learning for Object Detection: A Comprehensive Review\", Towards Data Science, 2017/09/12.\n",
    "https://towardsdatascience.com/deep-learning-for-object-detection-a-comprehensive-review-73930816d8d9\n",
    "\n",
    "4.  Chengwei Zhang, \"How to train an object detection model easy for free\", https://www.dlology.com/blog/how-to-train-an-object-detection-model-easy-for-free/\n",
    "\n",
    "5.  Kaggle Competiton : \"Open Images 2019 - Object Detection\"\n",
    "https://www.kaggle.com/c/open-images-2019-object-detection"
   ]
  }
 ],
 "metadata": {
  "kernelspec": {
   "display_name": "Python 3",
   "language": "python",
   "name": "python3"
  },
  "language_info": {
   "codemirror_mode": {
    "name": "ipython",
    "version": 3
   },
   "file_extension": ".py",
   "mimetype": "text/x-python",
   "name": "python",
   "nbconvert_exporter": "python",
   "pygments_lexer": "ipython3",
   "version": "3.8.5"
  }
 },
 "nbformat": 4,
 "nbformat_minor": 2
}
