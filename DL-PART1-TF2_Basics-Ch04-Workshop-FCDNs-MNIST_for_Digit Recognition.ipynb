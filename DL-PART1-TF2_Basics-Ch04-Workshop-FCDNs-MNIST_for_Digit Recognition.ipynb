{
 "cells": [
  {
   "cell_type": "markdown",
   "metadata": {},
   "source": [
    "# < Deep Learning - PART1 TF2 Basics >\n",
    "# Ch 4. Workshop : FCDNs - MNIST for Digit Recognition\n",
    "2021/10/01\n",
    "\n",
    "**[ Reference ] :**\n",
    "> 1. FRANÇOIS CHOLLET, **Deep Learning with Python**, Chapter 3, Section 5, Manning, 2018. \n",
    "  (https://tanthiamhuat.files.wordpress.com/2018/03/deeplearningwithpython.pdf)\n",
    "  \n",
    "> 2. TensorBoard - Guide : **Displaying image data in TensorBoard**, https://www.tensorflow.org/tensorboard/image_summaries\n",
    "\n",
    "----"
   ]
  },
  {
   "cell_type": "code",
   "execution_count": 1,
   "metadata": {},
   "outputs": [
    {
     "data": {
      "text/plain": [
       "'2.6.0'"
      ]
     },
     "execution_count": 1,
     "metadata": {},
     "output_type": "execute_result"
    }
   ],
   "source": [
    "import tensorflow as tf\n",
    "from datetime import datetime\n",
    "\n",
    "import numpy as np\n",
    "import matplotlib.pyplot as plt\n",
    "import io\n",
    "import itertools\n",
    "import sklearn\n",
    "from sklearn.metrics import confusion_matrix\n",
    "\n",
    "tf.__version__"
   ]
  },
  {
   "cell_type": "markdown",
   "metadata": {
    "collapsed": true
   },
   "source": [
    "### Using Fully-Connected Deep Networks (FCDNs) to classify hand-written digits :\n",
    "\n",
    "+ In our case, we will configure our convnet to process inputs of size `(28, 28, 1)`, which is the format of **`MNIST`** images. We do this via passing the argument `input_shape=(28, 28, 1)` to our first hidden layer.\n",
    "+ The FCDN model consists of 2 hidden layers: the first hidden layer poccesses 128 hidden units, while the second one has 64 hidden units. \n",
    "+ There are 10 classes within the output layer."
   ]
  },
  {
   "cell_type": "code",
   "execution_count": 2,
   "metadata": {},
   "outputs": [],
   "source": [
    "from tensorflow.keras import models, layers\n",
    "\n",
    "model = models.Sequential()\n",
    "model.add(layers.Flatten(input_shape=(28, 28, 1)))\n",
    "model.add(layers.Dense(128, activation='relu'))\n",
    "model.add(layers.Dense(64, activation='relu'))\n",
    "model.add(layers.Dense(10, activation='softmax'))"
   ]
  },
  {
   "cell_type": "markdown",
   "metadata": {},
   "source": [
    "We are going to do 10-way classification, so we use a final layer with 10 outputs and a softmax activation. Now here's what our network \n",
    "looks like:"
   ]
  },
  {
   "cell_type": "code",
   "execution_count": 3,
   "metadata": {},
   "outputs": [
    {
     "name": "stdout",
     "output_type": "stream",
     "text": [
      "Model: \"sequential\"\n",
      "_________________________________________________________________\n",
      "Layer (type)                 Output Shape              Param #   \n",
      "=================================================================\n",
      "flatten (Flatten)            (None, 784)               0         \n",
      "_________________________________________________________________\n",
      "dense (Dense)                (None, 128)               100480    \n",
      "_________________________________________________________________\n",
      "dense_1 (Dense)              (None, 64)                8256      \n",
      "_________________________________________________________________\n",
      "dense_2 (Dense)              (None, 10)                650       \n",
      "=================================================================\n",
      "Total params: 109,386\n",
      "Trainable params: 109,386\n",
      "Non-trainable params: 0\n",
      "_________________________________________________________________\n"
     ]
    }
   ],
   "source": [
    "model.summary()"
   ]
  },
  {
   "cell_type": "markdown",
   "metadata": {},
   "source": [
    "As you can see, our `(3, 3, 64)` outputs were flattened into vectors of shape `(576,)`, before going through two `Dense` layers.\n",
    "\n",
    "Now, let's train our convnet on the MNIST digits. We will reuse a lot of the code we have already covered in the MNIST example from Chapter \n",
    "2."
   ]
  },
  {
   "cell_type": "code",
   "execution_count": 4,
   "metadata": {},
   "outputs": [],
   "source": [
    "mnist = tf.keras.datasets.mnist\n",
    "(train_images, train_labels), (test_images, test_labels) = mnist.load_data()\n",
    "\n",
    "# Reshape the datasets into 4D-Tensor format...\n",
    "train_images = train_images.reshape((60000, 28, 28, 1))\n",
    "train_images = train_images.astype('float32') / 255\n",
    "\n",
    "test_images = test_images.reshape((10000, 28, 28, 1))\n",
    "test_images = test_images.astype('float32') / 255"
   ]
  },
  {
   "cell_type": "markdown",
   "metadata": {},
   "source": [
    "#### [ About **Loss Function** ]:  `categorical_crossentropy` vs. `sparse_categorical_crossentropy`\n",
    "> + If the targets are **one-hot encoded**, use **`categorical_crossentropy`**.\n",
    "        - Examples of one-hot encodings:\n",
    "                [1,0,0]\n",
    "                [0,1,0]\n",
    "                [0,0,1]\n",
    "+ But if the targets are **integers**, use **`sparse_categorical_crossentropy`**.\n",
    "        - Examples of integer encodings (for the sake of completion):\n",
    "                    1\n",
    "                    2\n",
    "                    3"
   ]
  },
  {
   "cell_type": "markdown",
   "metadata": {},
   "source": [
    "## Backpropagation"
   ]
  },
  {
   "cell_type": "code",
   "execution_count": 5,
   "metadata": {},
   "outputs": [],
   "source": [
    "model.compile(optimizer='rmsprop',\n",
    "              loss='sparse_categorical_crossentropy',\n",
    "              metrics=['accuracy'])"
   ]
  },
  {
   "cell_type": "markdown",
   "metadata": {},
   "source": [
    "## Output Data for TensorBoard\n",
    "\n"
   ]
  },
  {
   "cell_type": "markdown",
   "metadata": {},
   "source": [
    "+ #### Creating a File Directory for TensorBoard"
   ]
  },
  {
   "cell_type": "code",
   "execution_count": 6,
   "metadata": {},
   "outputs": [],
   "source": [
    "# File-directory Path for TensorBoard \n",
    "log_dir=\"logs/fit/fcdn/\" + datetime.now().strftime(\"%Y%m%d-%H%M%S\")"
   ]
  },
  {
   "cell_type": "markdown",
   "metadata": {},
   "source": [
    "+ #### Output MNIST Images for TensorBoard"
   ]
  },
  {
   "cell_type": "code",
   "execution_count": 7,
   "metadata": {},
   "outputs": [],
   "source": [
    "# tf.summary.create_file_writer() : \n",
    "#   Creates a summary file writer for the given log directory.\n",
    "log_images = log_dir + \"/images\"\n",
    "file_writer = tf.summary.create_file_writer(log_images)\n",
    "\n",
    "def plot_to_image(figure):\n",
    "    \"\"\"Converts the matplotlib plot specified by 'figure' \n",
    "       to a PNG image and returns it. The supplied figure \n",
    "       is closed and inaccessible after this call.\"\"\"\n",
    "    # Save the plot to a PNG in memory.\n",
    "    buf = io.BytesIO()\n",
    "    plt.savefig(buf, format='png')\n",
    "    # Closing the figure prevents it from being displayed \n",
    "    # directly inside the notebook.\n",
    "    plt.close(figure)\n",
    "    buf.seek(0)\n",
    "    # Convert PNG buffer to TF image\n",
    "    image = tf.image.decode_png(buf.getvalue(), channels=4)\n",
    "    # Add the batch dimension\n",
    "    image = tf.expand_dims(image, 0)\n",
    "    return image\n",
    "\n",
    "def image_grid():\n",
    "    \"\"\"Return a 5x5 grid of the MNIST images as a matplotlib figure.\"\"\"\n",
    "    # Create a figure to contain the plot.\n",
    "    figure = plt.figure(figsize=(10,10))\n",
    "    for i in range(25):\n",
    "        # Start next subplot.\n",
    "        plt.subplot(5, 5, i + 1, title=class_names[train_labels[i]])\n",
    "        plt.xticks([])\n",
    "        plt.yticks([])\n",
    "        plt.grid(False)\n",
    "        plt.imshow(train_images[i], cmap=plt.cm.binary)\n",
    "    return figure\n",
    "\n",
    "def log_image_plots(epoch, logs):\n",
    "    # Prepare the plot\n",
    "    figure = image_grid()\n",
    "    # Convert to image and log\n",
    "    with file_writer.as_default():\n",
    "        tf.summary.image(\"Training data\", plot_to_image(figure), step=0)"
   ]
  },
  {
   "cell_type": "markdown",
   "metadata": {},
   "source": [
    "+ #### Output Confusion Matrix for TensorBoard"
   ]
  },
  {
   "cell_type": "code",
   "execution_count": 8,
   "metadata": {},
   "outputs": [],
   "source": [
    "def plot_confusion_matrix(cm, class_names):\n",
    "    \"\"\" \n",
    "    Returns a matplotlib figure containing the plotted confusion matrix.\n",
    "\n",
    "    Args:\n",
    "      cm (array, shape = [n, n]): a confusion matrix of integer classes\n",
    "      class_names (array, shape = [n]): String names of the integer classes\n",
    "    \"\"\"\n",
    "    figure = plt.figure(figsize=(8, 8))\n",
    "    plt.imshow(cm, interpolation='nearest', cmap=plt.cm.Blues)\n",
    "    plt.title(\"Confusion matrix\")\n",
    "    plt.colorbar()\n",
    "    tick_marks = np.arange(len(class_names))\n",
    "    plt.xticks(tick_marks, class_names, rotation=45)\n",
    "    plt.yticks(tick_marks, class_names)\n",
    "\n",
    "    # Compute the labels from the normalized confusion matrix.\n",
    "    labels = np.around(cm.astype('float') / cm.sum(axis=1)[:, np.newaxis], \n",
    "                       decimals=2)\n",
    "\n",
    "    # Use white text if squares are dark; otherwise black.\n",
    "    threshold = cm.max() / 2.\n",
    "    for i, j in itertools.product(range(cm.shape[0]), range(cm.shape[1])):\n",
    "        color = \"white\" if cm[i, j] > threshold else \"black\"\n",
    "        plt.text(j, i, labels[i, j], horizontalalignment=\"center\", color=color)\n",
    "\n",
    "    plt.tight_layout()\n",
    "    plt.ylabel('True label')\n",
    "    plt.xlabel('Predicted label')\n",
    "    return figure"
   ]
  },
  {
   "cell_type": "code",
   "execution_count": 9,
   "metadata": {},
   "outputs": [],
   "source": [
    "# tf.summary.create_file_writer() : \n",
    "#   Creates a summary file writer for the given log directory.\n",
    "file_writer_cm = tf.summary.create_file_writer(log_dir + '/cm')\n",
    "\n",
    "# Class names for MNIST digit images: 0 ~ 9\n",
    "class_names = [str(i) for i in range(10)]\n",
    "\n",
    "def log_confusion_matrix(epoch, logs):\n",
    "    # Use the model to predict the values from the validation dataset.\n",
    "    test_pred_raw = model.predict(test_images)\n",
    "    test_pred = np.argmax(test_pred_raw, axis=1)\n",
    "\n",
    "    # Calculate the confusion matrix.\n",
    "    cm = sklearn.metrics.confusion_matrix(test_labels, test_pred)\n",
    "    # Log the confusion matrix as an image summary.\n",
    "    figure = plot_confusion_matrix(cm, class_names=class_names)\n",
    "    cm_image = plot_to_image(figure)\n",
    "\n",
    "    # Log the confusion matrix as an image summary.\n",
    "    with file_writer_cm.as_default():\n",
    "        tf.summary.image(\"Confusion Matrix\", cm_image, step=epoch)"
   ]
  },
  {
   "cell_type": "markdown",
   "metadata": {},
   "source": [
    "+ #### Callback methods"
   ]
  },
  {
   "cell_type": "code",
   "execution_count": 10,
   "metadata": {},
   "outputs": [],
   "source": [
    "# Define the Keras TensorBoard callback.\n",
    "tensorboard_callback = tf.keras.callbacks.TensorBoard(log_dir=log_dir, \n",
    "                                                      histogram_freq=1)\n",
    "\n",
    "# Define the per-epoch callbacks for MNIST images.\n",
    "image_callback = tf.keras.callbacks.LambdaCallback(on_epoch_end=log_image_plots)\n",
    "\n",
    "# Define the per-epoch callbacks for confusion matrix.\n",
    "cm_callback = tf.keras.callbacks.LambdaCallback(on_epoch_end=log_confusion_matrix)"
   ]
  },
  {
   "cell_type": "code",
   "execution_count": 11,
   "metadata": {},
   "outputs": [
    {
     "name": "stdout",
     "output_type": "stream",
     "text": [
      "Epoch 1/15\n",
      "106/106 [==============================] - 2s 12ms/step - loss: 0.8763 - accuracy: 0.7545 - val_loss: 0.2480 - val_accuracy: 0.9265\n",
      "Epoch 2/15\n",
      "106/106 [==============================] - 0s 4ms/step - loss: 0.2547 - accuracy: 0.9260 - val_loss: 0.1697 - val_accuracy: 0.9512\n",
      "Epoch 3/15\n",
      "106/106 [==============================] - 0s 4ms/step - loss: 0.1849 - accuracy: 0.9457 - val_loss: 0.1317 - val_accuracy: 0.9630\n",
      "Epoch 4/15\n",
      "106/106 [==============================] - 0s 4ms/step - loss: 0.1440 - accuracy: 0.9573 - val_loss: 0.1181 - val_accuracy: 0.9632\n",
      "Epoch 5/15\n",
      "106/106 [==============================] - 0s 4ms/step - loss: 0.1132 - accuracy: 0.9666 - val_loss: 0.0964 - val_accuracy: 0.9710\n",
      "Epoch 6/15\n",
      "106/106 [==============================] - 0s 4ms/step - loss: 0.0941 - accuracy: 0.9723 - val_loss: 0.1071 - val_accuracy: 0.9695\n",
      "Epoch 7/15\n",
      "106/106 [==============================] - 0s 4ms/step - loss: 0.0784 - accuracy: 0.9765 - val_loss: 0.0972 - val_accuracy: 0.9715\n",
      "Epoch 8/15\n",
      "106/106 [==============================] - 0s 4ms/step - loss: 0.0663 - accuracy: 0.9802 - val_loss: 0.0825 - val_accuracy: 0.9738\n",
      "Epoch 9/15\n",
      "106/106 [==============================] - 0s 4ms/step - loss: 0.0576 - accuracy: 0.9831 - val_loss: 0.0819 - val_accuracy: 0.9767\n",
      "Epoch 10/15\n",
      "106/106 [==============================] - 0s 4ms/step - loss: 0.0491 - accuracy: 0.9856 - val_loss: 0.0863 - val_accuracy: 0.9725\n",
      "Epoch 11/15\n",
      "106/106 [==============================] - 0s 4ms/step - loss: 0.0408 - accuracy: 0.9880 - val_loss: 0.0810 - val_accuracy: 0.9775\n",
      "Epoch 12/15\n",
      "106/106 [==============================] - 0s 4ms/step - loss: 0.0367 - accuracy: 0.9893 - val_loss: 0.0856 - val_accuracy: 0.9770\n",
      "Epoch 13/15\n",
      "106/106 [==============================] - 0s 4ms/step - loss: 0.0322 - accuracy: 0.9915 - val_loss: 0.0725 - val_accuracy: 0.9790\n",
      "Epoch 14/15\n",
      "106/106 [==============================] - 0s 4ms/step - loss: 0.0303 - accuracy: 0.9914 - val_loss: 0.0788 - val_accuracy: 0.9772\n",
      "Epoch 15/15\n",
      "106/106 [==============================] - 0s 4ms/step - loss: 0.0237 - accuracy: 0.9934 - val_loss: 0.0765 - val_accuracy: 0.9792\n"
     ]
    }
   ],
   "source": [
    "# validation_split: Float between 0 and 1. \n",
    "#                   Fraction of the training data to be used as validation data.\n",
    "\n",
    "history = model.fit(train_images, \n",
    "                    train_labels, \n",
    "                    epochs=15, \n",
    "                    batch_size=512,\n",
    "                    validation_split=0.1,\n",
    "                    callbacks=[tensorboard_callback, \n",
    "                               image_callback,\n",
    "                               cm_callback])"
   ]
  },
  {
   "cell_type": "markdown",
   "metadata": {},
   "source": [
    "Let's evaluate the model on the test data:"
   ]
  },
  {
   "cell_type": "code",
   "execution_count": 12,
   "metadata": {},
   "outputs": [],
   "source": [
    "# verbose: 0 or 1. Verbosity mode. 0 = silent, 1 = progress bar\n",
    "test_loss, test_acc = model.evaluate(test_images, test_labels, verbose=0)"
   ]
  },
  {
   "cell_type": "code",
   "execution_count": 13,
   "metadata": {},
   "outputs": [
    {
     "data": {
      "text/plain": [
       "0.9771999716758728"
      ]
     },
     "execution_count": 13,
     "metadata": {},
     "output_type": "execute_result"
    }
   ],
   "source": [
    "test_acc"
   ]
  },
  {
   "cell_type": "code",
   "execution_count": 14,
   "metadata": {},
   "outputs": [
    {
     "data": {
      "text/plain": [
       "0.07573146373033524"
      ]
     },
     "execution_count": 14,
     "metadata": {},
     "output_type": "execute_result"
    }
   ],
   "source": [
    "test_loss"
   ]
  },
  {
   "cell_type": "markdown",
   "metadata": {},
   "source": [
    "## Plotting results"
   ]
  },
  {
   "cell_type": "markdown",
   "metadata": {},
   "source": [
    "> + **The call to `model.fit()` returns a `History` object.** \n",
    ">\n",
    ">\n",
    "> + **This object has a member `history`, which is a dictionary containing data about everything that happened during training.**\n",
    " \n",
    "Let's take a look at it:"
   ]
  },
  {
   "cell_type": "code",
   "execution_count": 15,
   "metadata": {},
   "outputs": [
    {
     "data": {
      "text/plain": [
       "dict_keys(['loss', 'accuracy', 'val_loss', 'val_accuracy'])"
      ]
     },
     "execution_count": 15,
     "metadata": {},
     "output_type": "execute_result"
    }
   ],
   "source": [
    "history_dict = history.history\n",
    "history_dict.keys()"
   ]
  },
  {
   "cell_type": "code",
   "execution_count": 16,
   "metadata": {},
   "outputs": [
    {
     "data": {
      "image/png": "[encoded data removed]",
      "text/plain": [
       "<Figure size 432x288 with 1 Axes>"
      ]
     },
     "metadata": {
      "needs_background": "light"
     },
     "output_type": "display_data"
    }
   ],
   "source": [
    "import matplotlib.pyplot as plt\n",
    "%matplotlib inline\n",
    "\n",
    "acc = history.history['accuracy']          \n",
    "val_acc = history.history['val_accuracy']  \n",
    "loss = history.history['loss']\n",
    "val_loss = history.history['val_loss']\n",
    "\n",
    "epochs = range(1, len(acc) + 1)\n",
    "\n",
    "# \"bo\" is for \"blue dot\"\n",
    "plt.plot(epochs, loss, 'bo', label='Training loss')\n",
    "# b is for \"solid blue line\"\n",
    "plt.plot(epochs, val_loss, 'b', label='Validation loss')\n",
    "plt.title('Training and validation loss')\n",
    "plt.xlabel('Epochs')\n",
    "plt.ylabel('Loss')\n",
    "plt.legend()\n",
    "\n",
    "plt.show()"
   ]
  },
  {
   "cell_type": "code",
   "execution_count": 17,
   "metadata": {},
   "outputs": [
    {
     "data": {
      "image/png": "[encoded data removed]",
      "text/plain": [
       "<Figure size 432x288 with 1 Axes>"
      ]
     },
     "metadata": {
      "needs_background": "light"
     },
     "output_type": "display_data"
    }
   ],
   "source": [
    "plt.clf()   # clear figure\n",
    "acc_values = history_dict['accuracy']          \n",
    "val_acc_values = history_dict['val_accuracy']  \n",
    "\n",
    "plt.plot(epochs, acc, 'bo', label='Training acc')\n",
    "plt.plot(epochs, val_acc, 'b', label='Validation acc')\n",
    "plt.title('Training and validation accuracy')\n",
    "plt.xlabel('Epochs')\n",
    "plt.ylabel('Accuracy')\n",
    "plt.legend()\n",
    "\n",
    "plt.show()"
   ]
  },
  {
   "cell_type": "markdown",
   "metadata": {},
   "source": [
    "## Prediction"
   ]
  },
  {
   "cell_type": "code",
   "execution_count": 18,
   "metadata": {},
   "outputs": [
    {
     "data": {
      "text/plain": [
       "array([[1.5047672e-07, 1.2711048e-09, 3.3050892e-05, ..., 9.9935359e-01,\n",
       "        1.1711770e-06, 2.3033490e-05],\n",
       "       [4.6101580e-09, 1.4413783e-05, 9.9997699e-01, ..., 5.3525377e-14,\n",
       "        2.5796912e-06, 7.9698786e-13],\n",
       "       [8.3861751e-06, 9.9881315e-01, 4.3890518e-04, ..., 3.5490209e-04,\n",
       "        1.8984842e-04, 1.4843447e-06],\n",
       "       ...,\n",
       "       [1.4883571e-13, 1.1322564e-13, 1.0123786e-13, ..., 3.1463259e-08,\n",
       "        3.3519623e-08, 7.8649146e-07],\n",
       "       [6.2846061e-12, 2.0362026e-13, 2.0849162e-12, ..., 8.5118544e-11,\n",
       "        2.1644304e-05, 1.7771976e-12],\n",
       "       [3.4703443e-10, 3.5609900e-15, 9.8466929e-12, ..., 1.9046985e-18,\n",
       "        2.1573755e-11, 6.8828145e-11]], dtype=float32)"
      ]
     },
     "execution_count": 18,
     "metadata": {},
     "output_type": "execute_result"
    }
   ],
   "source": [
    "test_predict = model.predict(test_images)\n",
    "test_predict"
   ]
  },
  {
   "cell_type": "code",
   "execution_count": 19,
   "metadata": {},
   "outputs": [
    {
     "data": {
      "text/plain": [
       "array([7, 2, 1, ..., 4, 5, 6], dtype=int64)"
      ]
     },
     "execution_count": 19,
     "metadata": {},
     "output_type": "execute_result"
    }
   ],
   "source": [
    "import numpy as np\n",
    "test_predict_result = np.array([np.argmax(test_predict[i]) for i in range(len(test_predict))])\n",
    "test_predict_result"
   ]
  },
  {
   "cell_type": "code",
   "execution_count": 20,
   "metadata": {},
   "outputs": [
    {
     "data": {
      "text/plain": [
       "array([7, 2, 1, ..., 4, 5, 6], dtype=uint8)"
      ]
     },
     "execution_count": 20,
     "metadata": {},
     "output_type": "execute_result"
    }
   ],
   "source": [
    "test_labels"
   ]
  },
  {
   "cell_type": "markdown",
   "metadata": {},
   "source": [
    "## Confusion Matrix"
   ]
  },
  {
   "cell_type": "code",
   "execution_count": 21,
   "metadata": {},
   "outputs": [
    {
     "data": {
      "image/png": "[encoded data removed]",
      "text/plain": [
       "<Figure size 720x576 with 2 Axes>"
      ]
     },
     "metadata": {
      "needs_background": "light"
     },
     "output_type": "display_data"
    },
    {
     "data": {
      "text/plain": [
       "array([[ 970,    0,    0,    0,    2,    0,    1,    1,    4,    2],\n",
       "       [   0, 1126,    4,    0,    0,    0,    2,    0,    3,    0],\n",
       "       [   4,    0, 1015,    1,    5,    0,    3,    2,    2,    0],\n",
       "       [   0,    1,    4,  990,    2,    1,    0,    3,    4,    5],\n",
       "       [   0,    0,    3,    1,  969,    0,    2,    2,    1,    4],\n",
       "       [   3,    0,    0,   10,    1,  859,    8,    2,    7,    2],\n",
       "       [   7,    2,    1,    1,    8,    3,  935,    1,    0,    0],\n",
       "       [   1,    3,   14,    7,    2,    0,    0,  990,    2,    9],\n",
       "       [   4,    0,    2,    6,    6,    1,    3,    3,  945,    4],\n",
       "       [   2,    6,    0,    5,   12,    4,    0,    4,    3,  973]],\n",
       "      dtype=int64)"
      ]
     },
     "execution_count": 21,
     "metadata": {},
     "output_type": "execute_result"
    }
   ],
   "source": [
    "import matplotlib.pyplot as plt\n",
    "import seaborn as sns\n",
    "sns.set()\n",
    "%matplotlib inline\n",
    "\n",
    "from sklearn.metrics import confusion_matrix\n",
    "\n",
    "mat = confusion_matrix(test_labels, test_predict_result)\n",
    "\n",
    "plt.figure(figsize=(10,8))\n",
    "sns.heatmap(mat, square=False, annot=True, fmt ='d', cbar=True)\n",
    "plt.xlim((0, 10))\n",
    "plt.ylim((10, 0))\n",
    "plt.xlabel('predicted value')\n",
    "plt.ylabel('true value')\n",
    "plt.show()\n",
    "\n",
    "mat"
   ]
  },
  {
   "cell_type": "markdown",
   "metadata": {},
   "source": [
    "## TensorBoard\n",
    "-----------------\n",
    "\n",
    "> ###  To run TensorBoard, run the following command on `Anaconda Prompt` :\n",
    "`tensorboard --logdir=`_path/to/log-directory_\n",
    "\n",
    "> + For instance, **`tensorboard --logdir logs/fit/fcdn`**\n",
    "\n",
    "> Connecting to **`http://localhost:6006`**\n",
    "\n",
    "-----------------"
   ]
  }
 ],
 "metadata": {
  "interpreter": {
   "hash": "e9afd3253101e30c074f19e3615574f118d414e5211ab5a754e65723fada7756"
  },
  "kernelspec": {
   "display_name": "Python 3.8.8 64-bit ('base': conda)",
   "name": "python3"
  },
  "language_info": {
   "codemirror_mode": {
    "name": "ipython",
    "version": 3
   },
   "file_extension": ".py",
   "mimetype": "text/x-python",
   "name": "python",
   "nbconvert_exporter": "python",
   "pygments_lexer": "ipython3",
   "version": "3.8.8"
  }
 },
 "nbformat": 4,
 "nbformat_minor": 2
}
