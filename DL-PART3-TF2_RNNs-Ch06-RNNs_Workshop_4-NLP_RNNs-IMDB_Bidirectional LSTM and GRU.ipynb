{
 "cells": [
  {
   "cell_type": "markdown",
   "metadata": {},
   "source": [
    "# < Deep Learning - PART3 TF2 RNNs >\n",
    "\n",
    "# Ch 6. RNNs Workshop 4 - NLP - RNNs - IMDB : Bidirectional LSTM & GRU\n",
    "2021/10/01\n",
    "\n",
    ">**[ Reference ] :**\n",
    "\n",
    "> 1. Keras Documentation, **Trains a Bidirectional LSTM on the IMDB sentiment classification task** https://keras.io/zh/examples/imdb_bidirectional_lstm/\n",
    ">\n",
    ">\n",
    "> 2. François Chollet, **Deep Learning with Python**, Chapter 6, Section 2, Manning, 2018.\n",
    "[Code] : https://github.com/fchollet/deep-learning-with-python-notebooks\n",
    "\n",
    "> 3. Wikipedia, **Recurrent neural network** https://en.wikipedia.org/wiki/Recurrent_neural_network\n",
    "    + Wikipedia, **Long short-term memory** https://en.wikipedia.org/wiki/Long_short-term_memory\n",
    "\n",
    "> 4. Andrej Karpathy blog,\n",
    "“**The Unreasonable Effectiveness of Recurrent Neural Networks**”\n",
    "https://karpathy.github.io/2015/05/21/rnn-effectiveness/\n",
    ">\n",
    ">\n",
    "> 5. Wikipedia, **Bidirectional recurrent neural networks** https://en.wikipedia.org/wiki/Bidirectional_recurrent_neural_networks\n",
    "\n",
    "> 6. Wikipedia, **Gated recurrent unit** https://en.wikipedia.org/wiki/Gated_recurrent_unit\n",
    "> 7. Tom Hope, Yehezkel S. Resheff, and Itay Lieder, \"**`Learning TensorFlow : A Guide to Building Deep Learning Systems`**\", Chapter 6, O'Reilly, 2017. - [ Code ] : https://github.com/giser-yugang/Learning_TensorFlow\n",
    "\n",
    "---"
   ]
  },
  {
   "cell_type": "markdown",
   "metadata": {},
   "source": [
    "#### [1. IMDB with Bidirectional LSTM](#LSTM)\n",
    "#### [2. IMDB with Bidirectional GRU](#GRU)\n",
    "--------"
   ]
  },
  {
   "cell_type": "markdown",
   "metadata": {},
   "source": [
    "## Bidirectional RNN layers (LSTM & GRU)\n",
    "+ Bidirectional RNN layers consist of, in their basic form, is two ordinary RNN layers: \n",
    "    - one layer that reads the sequence from left to right, and \n",
    "    - another that reads from right to left.\n",
    "    - Each yields a hidden representation, the left-to-right vector, and the right-to-left vector. \n",
    "    - These are then concatenated into one vector. \n",
    "    - The major advantage of this representation is its ability to capture the context of words from both directions, which enables richer understanding of natural language and the underlying semantics in text. \n",
    "    - In practice, in complex tasks, it often leads to improved accuracy."
   ]
  },
  {
   "cell_type": "code",
   "execution_count": 1,
   "metadata": {},
   "outputs": [
    {
     "data": {
      "text/plain": [
       "'2.0.0'"
      ]
     },
     "execution_count": 1,
     "metadata": {},
     "output_type": "execute_result"
    }
   ],
   "source": [
    "import tensorflow as tf\n",
    "tf.__version__"
   ]
  },
  {
   "cell_type": "markdown",
   "metadata": {},
   "source": [
    "<a id='LSTM'></a>\n",
    "## 1. IMDB with Bidirectional LSTM\n"
   ]
  },
  {
   "cell_type": "code",
   "execution_count": 2,
   "metadata": {},
   "outputs": [],
   "source": [
    "from __future__ import print_function\n",
    "import numpy as np\n",
    "\n",
    "from tensorflow.keras.preprocessing import sequence\n",
    "from tensorflow.keras.models import Sequential\n",
    "from tensorflow.keras.layers import Dense, Dropout, Embedding, LSTM, Bidirectional\n",
    "from tensorflow.keras.datasets import imdb"
   ]
  },
  {
   "cell_type": "code",
   "execution_count": 3,
   "metadata": {},
   "outputs": [],
   "source": [
    "max_features = 20000\n",
    "# cut texts after this number of words\n",
    "# (among top max_features most common words)\n",
    "maxlen = 100\n",
    "batch_size = 256"
   ]
  },
  {
   "cell_type": "markdown",
   "metadata": {},
   "source": [
    "### Loading IMDB dataset"
   ]
  },
  {
   "cell_type": "code",
   "execution_count": 4,
   "metadata": {},
   "outputs": [
    {
     "name": "stdout",
     "output_type": "stream",
     "text": [
      "Loading data...\n",
      "25000 train sequences\n",
      "25000 test sequences\n"
     ]
    }
   ],
   "source": [
    "print('Loading data...')\n",
    "(x_train, y_train), (x_test, y_test) = imdb.load_data(num_words=max_features)\n",
    "print(len(x_train), 'train sequences')\n",
    "print(len(x_test), 'test sequences')"
   ]
  },
  {
   "cell_type": "code",
   "execution_count": 5,
   "metadata": {},
   "outputs": [
    {
     "name": "stdout",
     "output_type": "stream",
     "text": [
      "Pad sequences (samples x time)\n",
      "x_train shape: (25000, 100)\n",
      "x_test shape: (25000, 100)\n"
     ]
    }
   ],
   "source": [
    "print('Pad sequences (samples x time)')\n",
    "x_train = sequence.pad_sequences(x_train, maxlen=maxlen)\n",
    "x_test = sequence.pad_sequences(x_test, maxlen=maxlen)\n",
    "print('x_train shape:', x_train.shape)\n",
    "print('x_test shape:', x_test.shape)"
   ]
  },
  {
   "cell_type": "code",
   "execution_count": 6,
   "metadata": {},
   "outputs": [],
   "source": [
    "y_train = np.array(y_train)\n",
    "y_test = np.array(y_test)"
   ]
  },
  {
   "cell_type": "markdown",
   "metadata": {},
   "source": [
    "### Bidirectional LSTM "
   ]
  },
  {
   "cell_type": "code",
   "execution_count": 7,
   "metadata": {},
   "outputs": [],
   "source": [
    "model = Sequential()\n",
    "model.add(Embedding(max_features, 128, input_length=maxlen))\n",
    "model.add(Bidirectional(LSTM(64)))\n",
    "model.add(Dropout(0.5))\n",
    "model.add(Dense(1, activation='sigmoid'))"
   ]
  },
  {
   "cell_type": "code",
   "execution_count": 8,
   "metadata": {},
   "outputs": [],
   "source": [
    "# try using different optimizers and different optimizer configs\n",
    "model.compile('adam', 'binary_crossentropy', metrics=['accuracy'])"
   ]
  },
  {
   "cell_type": "code",
   "execution_count": 9,
   "metadata": {},
   "outputs": [
    {
     "name": "stdout",
     "output_type": "stream",
     "text": [
      "Train...\n",
      "Train on 25000 samples, validate on 25000 samples\n",
      "Epoch 1/10\n",
      "25000/25000 [==============================] - 53s 2ms/sample - loss: 0.4990 - accuracy: 0.7445 - val_loss: 0.3436 - val_accuracy: 0.8474\n",
      "Epoch 2/10\n",
      "25000/25000 [==============================] - 37s 1ms/sample - loss: 0.2508 - accuracy: 0.9011 - val_loss: 0.3408 - val_accuracy: 0.8496\n",
      "Epoch 3/10\n",
      "25000/25000 [==============================] - 37s 1ms/sample - loss: 0.1700 - accuracy: 0.9391 - val_loss: 0.3971 - val_accuracy: 0.8400\n",
      "Epoch 4/10\n",
      "25000/25000 [==============================] - 37s 1ms/sample - loss: 0.1127 - accuracy: 0.9624 - val_loss: 0.4693 - val_accuracy: 0.8313\n",
      "Epoch 5/10\n",
      "25000/25000 [==============================] - 37s 1ms/sample - loss: 0.0789 - accuracy: 0.9750 - val_loss: 0.6139 - val_accuracy: 0.8199\n",
      "Epoch 6/10\n",
      "25000/25000 [==============================] - 37s 1ms/sample - loss: 0.0587 - accuracy: 0.9806 - val_loss: 0.6681 - val_accuracy: 0.8109\n",
      "Epoch 7/10\n",
      "25000/25000 [==============================] - 37s 1ms/sample - loss: 0.0428 - accuracy: 0.9867 - val_loss: 0.7591 - val_accuracy: 0.8184\n",
      "Epoch 8/10\n",
      "25000/25000 [==============================] - 37s 1ms/sample - loss: 0.0329 - accuracy: 0.9898 - val_loss: 0.8509 - val_accuracy: 0.8206\n",
      "Epoch 9/10\n",
      "25000/25000 [==============================] - 37s 1ms/sample - loss: 0.0256 - accuracy: 0.9928 - val_loss: 0.9110 - val_accuracy: 0.8166\n",
      "Epoch 10/10\n",
      "25000/25000 [==============================] - 37s 1ms/sample - loss: 0.0262 - accuracy: 0.9924 - val_loss: 0.7756 - val_accuracy: 0.8181\n"
     ]
    }
   ],
   "source": [
    "print('Train...')\n",
    "history = model.fit(x_train, y_train,\n",
    "          batch_size=batch_size,\n",
    "          epochs=10,\n",
    "          validation_data=[x_test, y_test])"
   ]
  },
  {
   "cell_type": "markdown",
   "metadata": {},
   "source": [
    "### Evalution"
   ]
  },
  {
   "cell_type": "code",
   "execution_count": 10,
   "metadata": {},
   "outputs": [
    {
     "name": "stdout",
     "output_type": "stream",
     "text": [
      "25000/1 - 21s - loss: 1.0246 - accuracy: 0.8181\n"
     ]
    },
    {
     "data": {
      "text/plain": [
       "[0.7756469815397262, 0.81812]"
      ]
     },
     "execution_count": 10,
     "metadata": {},
     "output_type": "execute_result"
    }
   ],
   "source": [
    "model.evaluate(x_test, y_test, verbose=2)"
   ]
  },
  {
   "cell_type": "code",
   "execution_count": 11,
   "metadata": {},
   "outputs": [
    {
     "data": {
      "text/plain": [
       "dict_keys(['loss', 'accuracy', 'val_loss', 'val_accuracy'])"
      ]
     },
     "execution_count": 11,
     "metadata": {},
     "output_type": "execute_result"
    }
   ],
   "source": [
    "history_dict = history.history\n",
    "history_dict.keys()"
   ]
  },
  {
   "cell_type": "code",
   "execution_count": 12,
   "metadata": {},
   "outputs": [
    {
     "data": {
      "image/png": "[encoded data removed]",
      "text/plain": [
       "<Figure size 432x288 with 1 Axes>"
      ]
     },
     "metadata": {
      "needs_background": "light"
     },
     "output_type": "display_data"
    },
    {
     "data": {
      "image/png": "[encoded data removed]",
      "text/plain": [
       "<Figure size 432x288 with 1 Axes>"
      ]
     },
     "metadata": {
      "needs_background": "light"
     },
     "output_type": "display_data"
    }
   ],
   "source": [
    "import matplotlib.pyplot as plt\n",
    "%matplotlib inline\n",
    "\n",
    "acc = history.history['accuracy']\n",
    "val_acc = history.history['val_accuracy']\n",
    "loss = history.history['loss']\n",
    "val_loss = history.history['val_loss']\n",
    "\n",
    "epochs = range(1, len(acc) + 1)\n",
    "\n",
    "plt.plot(epochs, acc, 'bo', label='Training acc')\n",
    "plt.plot(epochs, val_acc, 'b', label='Validation acc')\n",
    "plt.title('Training and validation accuracy')\n",
    "plt.legend()\n",
    "\n",
    "plt.figure()\n",
    "\n",
    "plt.plot(epochs, loss, 'bo', label='Training loss')\n",
    "plt.plot(epochs, val_loss, 'b', label='Validation loss')\n",
    "plt.title('Training and validation loss')\n",
    "plt.legend()\n",
    "\n",
    "plt.show()"
   ]
  },
  {
   "cell_type": "markdown",
   "metadata": {},
   "source": [
    "<a id='GRU'></a>\n",
    "## 2. IMDB with Bidirectional GRU (Gated Recurrent Unit)\n",
    "\n",
    "+ Gated recurrent unit (GRU) cells are a simplification of sorts of LSTM cells. \n",
    "+ They also have a memory mechanism, but with considerably fewer parameters than LSTM.\n",
    "+ They are often used when there is less available data, and are faster to compute. "
   ]
  },
  {
   "cell_type": "markdown",
   "metadata": {},
   "source": [
    "### Bidirectional GRU"
   ]
  },
  {
   "cell_type": "code",
   "execution_count": 13,
   "metadata": {},
   "outputs": [],
   "source": [
    "from tensorflow.keras.layers import Dense, Dropout, Embedding, GRU, Bidirectional\n",
    "\n",
    "gru_model = Sequential()\n",
    "gru_model.add(Embedding(max_features, 128, input_length=maxlen))\n",
    "gru_model.add(Bidirectional(GRU(64)))\n",
    "gru_model.add(Dropout(0.5))\n",
    "gru_model.add(Dense(1, activation='sigmoid'))"
   ]
  },
  {
   "cell_type": "code",
   "execution_count": 14,
   "metadata": {},
   "outputs": [],
   "source": [
    "# try using different optimizers and different optimizer configs\n",
    "gru_model.compile('adam', 'binary_crossentropy', metrics=['accuracy'])"
   ]
  },
  {
   "cell_type": "code",
   "execution_count": 15,
   "metadata": {},
   "outputs": [
    {
     "name": "stdout",
     "output_type": "stream",
     "text": [
      "Bidirectional GRU...\n",
      "Train on 25000 samples, validate on 25000 samples\n",
      "Epoch 1/10\n",
      "25000/25000 [==============================] - 36s 1ms/sample - loss: 0.5324 - accuracy: 0.7148 - val_loss: 0.3576 - val_accuracy: 0.8449\n",
      "Epoch 2/10\n",
      "25000/25000 [==============================] - 33s 1ms/sample - loss: 0.2672 - accuracy: 0.8936 - val_loss: 0.3476 - val_accuracy: 0.8499\n",
      "Epoch 3/10\n",
      "25000/25000 [==============================] - 34s 1ms/sample - loss: 0.1676 - accuracy: 0.9406 - val_loss: 0.4293 - val_accuracy: 0.8404\n",
      "Epoch 4/10\n",
      "25000/25000 [==============================] - 33s 1ms/sample - loss: 0.1075 - accuracy: 0.9643 - val_loss: 0.4934 - val_accuracy: 0.8329\n",
      "Epoch 5/10\n",
      "25000/25000 [==============================] - 33s 1ms/sample - loss: 0.0619 - accuracy: 0.9796 - val_loss: 0.6604 - val_accuracy: 0.8286\n",
      "Epoch 6/10\n",
      "25000/25000 [==============================] - 34s 1ms/sample - loss: 0.0422 - accuracy: 0.9862 - val_loss: 0.7159 - val_accuracy: 0.8259\n",
      "Epoch 7/10\n",
      "25000/25000 [==============================] - 33s 1ms/sample - loss: 0.0262 - accuracy: 0.9922 - val_loss: 0.8887 - val_accuracy: 0.8210\n",
      "Epoch 8/10\n",
      "25000/25000 [==============================] - 33s 1ms/sample - loss: 0.0169 - accuracy: 0.9952 - val_loss: 0.9565 - val_accuracy: 0.8188\n",
      "Epoch 9/10\n",
      "25000/25000 [==============================] - 33s 1ms/sample - loss: 0.0099 - accuracy: 0.9973 - val_loss: 0.9881 - val_accuracy: 0.8176\n",
      "Epoch 10/10\n",
      "25000/25000 [==============================] - 33s 1ms/sample - loss: 0.0060 - accuracy: 0.9987 - val_loss: 1.0629 - val_accuracy: 0.8174\n"
     ]
    }
   ],
   "source": [
    "print('Bidirectional GRU...')\n",
    "gru_history = gru_model.fit(x_train, y_train,\n",
    "                        batch_size=batch_size,\n",
    "                        epochs=10,\n",
    "                        validation_data=[x_test, y_test])"
   ]
  },
  {
   "cell_type": "code",
   "execution_count": 16,
   "metadata": {},
   "outputs": [
    {
     "name": "stdout",
     "output_type": "stream",
     "text": [
      "25000/1 - 18s - loss: 1.2307 - accuracy: 0.8174\n"
     ]
    },
    {
     "data": {
      "text/plain": [
       "[1.062934914600849, 0.81744]"
      ]
     },
     "execution_count": 16,
     "metadata": {},
     "output_type": "execute_result"
    }
   ],
   "source": [
    "gru_model.evaluate(x_test, y_test, verbose=2)"
   ]
  },
  {
   "cell_type": "code",
   "execution_count": 17,
   "metadata": {},
   "outputs": [
    {
     "data": {
      "image/png": "[encoded data removed]",
      "text/plain": [
       "<Figure size 432x288 with 1 Axes>"
      ]
     },
     "metadata": {
      "needs_background": "light"
     },
     "output_type": "display_data"
    },
    {
     "data": {
      "image/png": "[encoded data removed]",
      "text/plain": [
       "<Figure size 432x288 with 1 Axes>"
      ]
     },
     "metadata": {
      "needs_background": "light"
     },
     "output_type": "display_data"
    }
   ],
   "source": [
    "import matplotlib.pyplot as plt\n",
    "%matplotlib inline\n",
    "\n",
    "acc = gru_history.history['accuracy']\n",
    "val_acc = gru_history.history['val_accuracy']\n",
    "loss = gru_history.history['loss']\n",
    "val_loss = gru_history.history['val_loss']\n",
    "\n",
    "epochs = range(1, len(acc) + 1)\n",
    "\n",
    "plt.plot(epochs, acc, 'bo', label='Training acc')\n",
    "plt.plot(epochs, val_acc, 'b', label='Validation acc')\n",
    "plt.title('Training and validation accuracy')\n",
    "plt.legend()\n",
    "\n",
    "plt.figure()\n",
    "\n",
    "plt.plot(epochs, loss, 'bo', label='Training loss')\n",
    "plt.plot(epochs, val_loss, 'b', label='Validation loss')\n",
    "plt.title('Training and validation loss')\n",
    "plt.legend()\n",
    "\n",
    "plt.show()"
   ]
  },
  {
   "cell_type": "markdown",
   "metadata": {},
   "source": [
    "### Q1: What are the differences between Bidir. LSTM & Bidir. GRU models?"
   ]
  },
  {
   "cell_type": "markdown",
   "metadata": {},
   "source": [
    "### Q2: How to improve performances of both Bidir. LSTM & Bidir. GRU models?"
   ]
  },
  {
   "cell_type": "code",
   "execution_count": null,
   "metadata": {},
   "outputs": [],
   "source": []
  }
 ],
 "metadata": {
  "kernelspec": {
   "display_name": "Python 3",
   "language": "python",
   "name": "python3"
  },
  "language_info": {
   "codemirror_mode": {
    "name": "ipython",
    "version": 3
   },
   "file_extension": ".py",
   "mimetype": "text/x-python",
   "name": "python",
   "nbconvert_exporter": "python",
   "pygments_lexer": "ipython3",
   "version": "3.8.5"
  }
 },
 "nbformat": 4,
 "nbformat_minor": 2
}
